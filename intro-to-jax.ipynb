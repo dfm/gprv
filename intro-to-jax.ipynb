{
 "cells": [
  {
   "cell_type": "markdown",
   "id": "ada14b6a-d989-4aa4-8b71-0d870933eb13",
   "metadata": {},
   "source": [
    "# Introduction to JAX\n",
    "\n",
    "This tutorial includes a whirlwind introduction to JAX. It's going to be pretty incomplete so, if you want more info, check out the [JAX docs](https://jax.readthedocs.io).\n",
    "\n",
    "We'll pretty much always want to include this line since JAX normally operates with single point precision:"
   ]
  },
  {
   "cell_type": "code",
   "execution_count": 1,
   "id": "9dc1746e-58c1-4ae6-824c-f0e0865a784a",
   "metadata": {},
   "outputs": [
    {
     "name": "stderr",
     "output_type": "stream",
     "text": [
      "/opt/homebrew/Caskroom/miniforge/base/envs/tinygp/lib/python3.9/site-packages/jax/_src/lib/__init__.py:32: UserWarning: JAX on Mac ARM machines is experimental and minimally tested. Please see https://github.com/google/jax/issues/5501 in the event of problems.\n",
      "  warnings.warn(\"JAX on Mac ARM machines is experimental and minimally tested. \"\n"
     ]
    }
   ],
   "source": [
    "import jax\n",
    "\n",
    "jax.config.update(\"jax_enable_x64\", True)"
   ]
  },
  {
   "cell_type": "markdown",
   "id": "b2f1843d-fe6d-428d-9206-08599ce547de",
   "metadata": {},
   "source": [
    "## `jax.numpy`\n",
    "\n",
    "`jax.numpy` works just like `numpy` (almost always):"
   ]
  },
  {
   "cell_type": "code",
   "execution_count": 2,
   "id": "467fe662-819a-4c5a-b179-8e5d1cb21076",
   "metadata": {},
   "outputs": [
    {
     "name": "stderr",
     "output_type": "stream",
     "text": [
      "WARNING:absl:No GPU/TPU found, falling back to CPU. (Set TF_CPP_MIN_LOG_LEVEL=0 and rerun for more info.)\n"
     ]
    },
    {
     "data": {
      "text/plain": [
       "(DeviceArray([0.1  , 1.325, 2.55 , 3.775, 5.   ], dtype=float64),\n",
       " DeviceArray([ 0.09983342,  0.96994386,  0.55768372, -0.59189456,\n",
       "              -0.95892427], dtype=float64))"
      ]
     },
     "execution_count": 2,
     "metadata": {},
     "output_type": "execute_result"
    }
   ],
   "source": [
    "import jax.numpy as jnp\n",
    "\n",
    "x = jnp.linspace(0.1, 5.0, 5)\n",
    "y = jnp.sin(x)\n",
    "x, y"
   ]
  },
  {
   "cell_type": "markdown",
   "id": "e0b320f6-d4fd-4f59-bf0a-8cbd748215be",
   "metadata": {},
   "source": [
    "We can combine regular `numpy` and `jax.numpy`:"
   ]
  },
  {
   "cell_type": "code",
   "execution_count": 3,
   "id": "8e108d6f-5bf7-483f-8485-7bab4533f92f",
   "metadata": {},
   "outputs": [
    {
     "data": {
      "text/plain": [
       "(array([0.1  , 1.325, 2.55 , 3.775, 5.   ]),\n",
       " DeviceArray([ 0.09983342,  0.96994386,  0.55768372, -0.59189456,\n",
       "              -0.95892427], dtype=float64))"
      ]
     },
     "execution_count": 3,
     "metadata": {},
     "output_type": "execute_result"
    }
   ],
   "source": [
    "import numpy as np\n",
    "\n",
    "x = np.linspace(0.1, 5.0, 5)\n",
    "y = jnp.sin(x)\n",
    "x, y"
   ]
  },
  {
   "cell_type": "markdown",
   "id": "9282cf37-e89e-4f3a-abfc-b247538f6e4b",
   "metadata": {},
   "source": [
    "## `jax.jit`\n",
    "\n",
    "We use `jax.jit` to fuse operations, and run them on the GPU, for example.\n",
    "One of the key points to remember when using JAX is that it works best in a \"functional\" style.\n",
    "A lot of the key JAX functions take a function as input and return a new function.\n",
    "For example:"
   ]
  },
  {
   "cell_type": "code",
   "execution_count": 4,
   "id": "cc4dc0ac-b240-47d1-91d3-f1edbb0a0526",
   "metadata": {},
   "outputs": [
    {
     "name": "stdout",
     "output_type": "stream",
     "text": [
      "hi from this function\n"
     ]
    },
    {
     "data": {
      "text/plain": [
       "DeviceArray([2.60498683, 4.13779638, 3.24662214, 2.05327807, 1.883305  ],            dtype=float64)"
      ]
     },
     "execution_count": 4,
     "metadata": {},
     "output_type": "execute_result"
    }
   ],
   "source": [
    "def jnp_function(x):\n",
    "    print(\"hi from this function\")\n",
    "    arg = jnp.sin(x)\n",
    "    return 1.5 + jnp.exp(arg)\n",
    "\n",
    "jitted_function = jax.jit(jnp_function)\n",
    "\n",
    "jitted_function(x)"
   ]
  },
  {
   "cell_type": "markdown",
   "id": "8c7d5f64-7797-46d8-ac54-4c46cb6d9525",
   "metadata": {},
   "source": [
    "What happens if we call that function again?"
   ]
  },
  {
   "cell_type": "code",
   "execution_count": 5,
   "id": "79bac88b-202b-42b2-889c-16afe755f667",
   "metadata": {},
   "outputs": [
    {
     "data": {
      "text/plain": [
       "DeviceArray([2.60498683, 4.13779638, 3.24662214, 2.05327807, 1.883305  ],            dtype=float64)"
      ]
     },
     "execution_count": 5,
     "metadata": {},
     "output_type": "execute_result"
    }
   ],
   "source": [
    "jitted_function(x)"
   ]
  },
  {
   "cell_type": "markdown",
   "id": "5e7c75a4-23da-4c28-9ee0-1e5baa960327",
   "metadata": {},
   "source": [
    "What about if we call it with a different input?"
   ]
  },
  {
   "cell_type": "code",
   "execution_count": 6,
   "id": "35573796-3a57-44ab-94f6-dcd34c481f97",
   "metadata": {},
   "outputs": [
    {
     "data": {
      "text/plain": [
       "DeviceArray([2.60480369, 3.78154758, 3.19761155, 2.07239023, 1.94106009],            dtype=float64)"
      ]
     },
     "execution_count": 6,
     "metadata": {},
     "output_type": "execute_result"
    }
   ],
   "source": [
    "jitted_function(np.sin(x))"
   ]
  },
  {
   "cell_type": "markdown",
   "id": "020331f8-2033-4937-8273-7565ab26fd6d",
   "metadata": {},
   "source": [
    "What about an input with a different shape?"
   ]
  },
  {
   "cell_type": "code",
   "execution_count": 7,
   "id": "1353bc5c-6a1d-4d12-a9be-28e9204e2c95",
   "metadata": {},
   "outputs": [
    {
     "name": "stdout",
     "output_type": "stream",
     "text": [
      "hi from this function\n"
     ]
    },
    {
     "data": {
      "text/plain": [
       "DeviceArray([2.60498683, 4.13779638, 3.24662214, 2.05327807], dtype=float64)"
      ]
     },
     "execution_count": 7,
     "metadata": {},
     "output_type": "execute_result"
    }
   ],
   "source": [
    "jitted_function(x[:-1])"
   ]
  },
  {
   "cell_type": "markdown",
   "id": "b2990af6-a1b8-426a-aa5e-7560c97b64d6",
   "metadata": {},
   "source": [
    "*Note:* It is common to use `jax.jit` as a \"decorator\":"
   ]
  },
  {
   "cell_type": "code",
   "execution_count": 8,
   "id": "d997f1d0-8117-425b-bd8a-889be7cb821f",
   "metadata": {},
   "outputs": [],
   "source": [
    "@jax.jit\n",
    "def jitted_function(x):\n",
    "    arg = jnp.sin(x)\n",
    "    return 1.5 + jnp.exp(arg)"
   ]
  },
  {
   "cell_type": "markdown",
   "id": "cdc4a86a-cd09-4d4d-a5d0-55438cc9c02b",
   "metadata": {},
   "source": [
    "## `jax.vmap`\n",
    "\n",
    "`jax.vmap` gives a mechanism for applying a \"scalar\" function on a vector of inputs.\n",
    "The same effects can often be achieved by manually broadcasting, but `vmap` comes in handy more often than you might think."
   ]
  },
  {
   "cell_type": "code",
   "execution_count": 9,
   "id": "136772d8-a384-4dc3-87ba-e967e5bfbf7c",
   "metadata": {},
   "outputs": [
    {
     "data": {
      "text/plain": [
       "DeviceArray([[[ 1.19428434e-01,  2.83938242e-01,  1.14193830e-01],\n",
       "              [ 2.83938242e-01,  6.75056374e-01,  2.71493097e-01],\n",
       "              [ 1.14193830e-01,  2.71493097e-01,  1.09188661e-01]],\n",
       "\n",
       "             [[ 1.69821877e+00, -1.17982104e+00, -5.81696252e-01],\n",
       "              [-1.17982104e+00,  8.19669245e-01,  4.04127838e-01],\n",
       "              [-5.81696252e-01,  4.04127838e-01,  1.99250259e-01]],\n",
       "\n",
       "             [[ 2.88318777e-01, -3.12033246e-01, -1.95758328e-01],\n",
       "              [-3.12033246e-01,  3.37698251e-01,  2.11859620e-01],\n",
       "              [-1.95758328e-01,  2.11859620e-01,  1.32913032e-01]],\n",
       "\n",
       "             [[ 8.65139256e-02,  8.35990480e-03,  1.60806056e-01],\n",
       "              [ 8.35990480e-03,  8.07823801e-04,  1.55388084e-02],\n",
       "              [ 1.60806056e-01,  1.55388084e-02,  2.98895090e-01]],\n",
       "\n",
       "             [[ 5.42364622e-01,  1.19975697e-01,  3.55058738e-01],\n",
       "              [ 1.19975697e-01,  2.65396512e-02,  7.85420322e-02],\n",
       "              [ 3.55058738e-01,  7.85420322e-02,  2.32439032e-01]]],            dtype=float64)"
      ]
     },
     "execution_count": 9,
     "metadata": {},
     "output_type": "execute_result"
    }
   ],
   "source": [
    "A = np.random.default_rng(1).normal(size=(5, 3))\n",
    "\n",
    "def scalar_function(x):\n",
    "    return jnp.outer(x, x)\n",
    "\n",
    "vector_function = jax.vmap(scalar_function)\n",
    "vector_function(A)"
   ]
  },
  {
   "cell_type": "code",
   "execution_count": 10,
   "id": "4a861a6d-f6b2-415b-a3d7-a9eba66b6df8",
   "metadata": {},
   "outputs": [
    {
     "data": {
      "text/plain": [
       "array([[[ 1.19428434e-01,  2.83938242e-01,  1.14193830e-01],\n",
       "        [ 2.83938242e-01,  6.75056374e-01,  2.71493097e-01],\n",
       "        [ 1.14193830e-01,  2.71493097e-01,  1.09188661e-01]],\n",
       "\n",
       "       [[ 1.69821877e+00, -1.17982104e+00, -5.81696252e-01],\n",
       "        [-1.17982104e+00,  8.19669245e-01,  4.04127838e-01],\n",
       "        [-5.81696252e-01,  4.04127838e-01,  1.99250259e-01]],\n",
       "\n",
       "       [[ 2.88318777e-01, -3.12033246e-01, -1.95758328e-01],\n",
       "        [-3.12033246e-01,  3.37698251e-01,  2.11859620e-01],\n",
       "        [-1.95758328e-01,  2.11859620e-01,  1.32913032e-01]],\n",
       "\n",
       "       [[ 8.65139256e-02,  8.35990480e-03,  1.60806056e-01],\n",
       "        [ 8.35990480e-03,  8.07823801e-04,  1.55388084e-02],\n",
       "        [ 1.60806056e-01,  1.55388084e-02,  2.98895090e-01]],\n",
       "\n",
       "       [[ 5.42364622e-01,  1.19975697e-01,  3.55058738e-01],\n",
       "        [ 1.19975697e-01,  2.65396512e-02,  7.85420322e-02],\n",
       "        [ 3.55058738e-01,  7.85420322e-02,  2.32439032e-01]]])"
      ]
     },
     "execution_count": 10,
     "metadata": {},
     "output_type": "execute_result"
    }
   ],
   "source": [
    "A[:, None, :] * A[:, :, None]"
   ]
  },
  {
   "cell_type": "markdown",
   "id": "a37c40b8-8a99-46db-860b-a04b2918b976",
   "metadata": {},
   "source": [
    "## `jax.grad`\n",
    "\n",
    "Any JAX function can also be differentiated."
   ]
  },
  {
   "cell_type": "code",
   "execution_count": 11,
   "id": "fc0e710d-962b-44e7-8649-51b88e47c806",
   "metadata": {},
   "outputs": [
    {
     "data": {
      "text/plain": [
       "DeviceArray(1.41742422, dtype=float64, weak_type=True)"
      ]
     },
     "execution_count": 11,
     "metadata": {},
     "output_type": "execute_result"
    }
   ],
   "source": [
    "grad_function = jax.grad(jitted_function)\n",
    "grad_function(0.5)"
   ]
  },
  {
   "cell_type": "markdown",
   "id": "fc51106f-1379-4b53-95f1-031a5d67264d",
   "metadata": {},
   "source": [
    "By default, differentiation is only supported for scalar outputs:"
   ]
  },
  {
   "cell_type": "code",
   "execution_count": 12,
   "id": "c343dc80-4d7e-461b-b520-34dfadff76f2",
   "metadata": {},
   "outputs": [
    {
     "name": "stdout",
     "output_type": "stream",
     "text": [
      "with pytest.raises(TypeError) as info:\n",
      ">       jax.grad(jitted_function)(x)\n",
      "E       TypeError: Gradient only defined for scalar-output functions. Output had shape: (5,).\n",
      "\n",
      "/var/folders/zt/5rbjzx8n45z24sx33nw21028000151/T/ipykernel_38289/3245152180.py:4: TypeError\n"
     ]
    }
   ],
   "source": [
    "import pytest\n",
    "\n",
    "with pytest.raises(TypeError) as info:\n",
    "    jax.grad(jitted_function)(x)\n",
    "print(info.getrepr())"
   ]
  },
  {
   "cell_type": "markdown",
   "id": "6d2a14ce-d5bd-436f-801a-71242d1167f9",
   "metadata": {},
   "source": [
    "But we can combine `grad` with `vmap` to get the derivative at each input point:"
   ]
  },
  {
   "cell_type": "code",
   "execution_count": 13,
   "id": "59edef16-1a86-4ce4-8ac6-5e470090c242",
   "metadata": {},
   "outputs": [
    {
     "data": {
      "text/plain": [
       "DeviceArray([ 1.0994665 ,  0.64185181, -1.44978988, -0.44595065,\n",
       "              0.10872913], dtype=float64)"
      ]
     },
     "execution_count": 13,
     "metadata": {},
     "output_type": "execute_result"
    }
   ],
   "source": [
    "jax.vmap(jax.grad(jitted_function))(x)"
   ]
  },
  {
   "cell_type": "markdown",
   "id": "fb4d5bbf-4e23-4cd9-be05-d21bf89094fe",
   "metadata": {},
   "source": [
    "Another useful function is `jax.value_and_grad`:"
   ]
  },
  {
   "cell_type": "code",
   "execution_count": 14,
   "id": "ce76be99-0778-4859-90cf-6fce4c1cf3cd",
   "metadata": {},
   "outputs": [
    {
     "data": {
      "text/plain": [
       "(DeviceArray([2.60498683, 4.13779638, 3.24662214, 2.05327807, 1.883305  ],            dtype=float64),\n",
       " DeviceArray([ 1.0994665 ,  0.64185181, -1.44978988, -0.44595065,\n",
       "               0.10872913], dtype=float64))"
      ]
     },
     "execution_count": 14,
     "metadata": {},
     "output_type": "execute_result"
    }
   ],
   "source": [
    "jax.vmap(jax.value_and_grad(jitted_function))(x)"
   ]
  },
  {
   "cell_type": "code",
   "execution_count": 15,
   "id": "ba508356-266d-49cb-b6a9-9fbc46c0b7bf",
   "metadata": {},
   "outputs": [
    {
     "data": {
      "image/png": "[encoded data removed]",
      "text/plain": [
       "<Figure size 432x288 with 1 Axes>"
      ]
     },
     "metadata": {
      "needs_background": "light"
     },
     "output_type": "display_data"
    }
   ],
   "source": [
    "import matplotlib.pyplot as plt\n",
    "\n",
    "x_grid = jnp.linspace(-5, 5, 100)\n",
    "value, grad = jax.vmap(jax.value_and_grad(jitted_function))(x_grid)\n",
    "plt.plot(x_grid, value, label=\"value\")\n",
    "plt.plot(x_grid, grad, label=\"grad\")\n",
    "plt.legend();"
   ]
  },
  {
   "cell_type": "markdown",
   "id": "f0704757-2bd8-4439-a0f7-8d17dd1a138a",
   "metadata": {},
   "source": [
    "## PyTrees\n",
    "\n",
    "Another useful JAX concept is \"PyTrees\".\n",
    "This allows us to use structured inputs and still use `jit`, `vmap`, and `grad`.\n",
    "For example:"
   ]
  },
  {
   "cell_type": "code",
   "execution_count": 16,
   "id": "db182d2d-47c3-4f63-88cc-f0f316fb0ad8",
   "metadata": {},
   "outputs": [
    {
     "data": {
      "text/plain": [
       "DeviceArray(0.02227585, dtype=float64, weak_type=True)"
      ]
     },
     "execution_count": 16,
     "metadata": {},
     "output_type": "execute_result"
    }
   ],
   "source": [
    "def pytree_func(params):\n",
    "    return jnp.exp(params[\"log_amp\"]) * jnp.sin(params[\"log_scale\"])\n",
    "\n",
    "params = {\n",
    "    \"log_amp\": -1.5,\n",
    "    \"log_scale\": 0.1,\n",
    "}\n",
    "pytree_func(params)"
   ]
  },
  {
   "cell_type": "code",
   "execution_count": 17,
   "id": "59f7514e-4c74-4a64-9f56-bfec4469c41c",
   "metadata": {},
   "outputs": [
    {
     "data": {
      "text/plain": [
       "{'log_amp': DeviceArray(0.02227585, dtype=float64, weak_type=True),\n",
       " 'log_scale': DeviceArray(0.22201544, dtype=float64, weak_type=True)}"
      ]
     },
     "execution_count": 17,
     "metadata": {},
     "output_type": "execute_result"
    }
   ],
   "source": [
    "jax.grad(pytree_func)(params)"
   ]
  },
  {
   "cell_type": "code",
   "execution_count": null,
   "id": "0b6d64a9-6361-4f05-b399-29312c15ef31",
   "metadata": {},
   "outputs": [],
   "source": []
  }
 ],
 "metadata": {
  "kernelspec": {
   "display_name": "Python 3 (ipykernel)",
   "language": "python",
   "name": "python3"
  },
  "language_info": {
   "codemirror_mode": {
    "name": "ipython",
    "version": 3
   },
   "file_extension": ".py",
   "mimetype": "text/x-python",
   "name": "python",
   "nbconvert_exporter": "python",
   "pygments_lexer": "ipython3",
   "version": "3.9.9"
  }
 },
 "nbformat": 4,
 "nbformat_minor": 5
}
